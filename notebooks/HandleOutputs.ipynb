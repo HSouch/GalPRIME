{
 "cells": [
  {
   "cell_type": "code",
   "execution_count": 1,
   "metadata": {},
   "outputs": [],
   "source": [
    "import galprime as gp\n",
    "\n",
    "from matplotlib import pyplot as plt\n",
    "\n",
    "from astropy.io import fits\n",
    "from astropy.table import Table\n",
    "\n",
    "import numpy as np\n",
    "\n",
    "from scipy.interpolate import interp1d\n",
    "\n",
    "\n",
    "import warnings\n",
    "warnings.filterwarnings('ignore')"
   ]
  },
  {
   "cell_type": "code",
   "execution_count": 2,
   "metadata": {},
   "outputs": [
    {
     "ename": "FileNotFoundError",
     "evalue": "[Errno 2] No such file or directory: 'gprime_out/tempfiles/100_0_0_0_0_done.pkl'",
     "output_type": "error",
     "traceback": [
      "\u001b[0;31m---------------------------------------------------------------------------\u001b[0m",
      "\u001b[0;31mFileNotFoundError\u001b[0m                         Traceback (most recent call last)",
      "Cell \u001b[0;32mIn[2], line 3\u001b[0m\n\u001b[1;32m      1\u001b[0m test_fn \u001b[38;5;241m=\u001b[39m \u001b[38;5;124m\"\u001b[39m\u001b[38;5;124mgprime_out/tempfiles/100_0_0_0_0_done.pkl\u001b[39m\u001b[38;5;124m\"\u001b[39m\n\u001b[0;32m----> 3\u001b[0m obj \u001b[38;5;241m=\u001b[39m \u001b[43mgp\u001b[49m\u001b[38;5;241;43m.\u001b[39;49m\u001b[43mload_object\u001b[49m\u001b[43m(\u001b[49m\u001b[43mtest_fn\u001b[49m\u001b[43m)\u001b[49m\n",
      "File \u001b[0;32m~/GalPRIME/galprime/utils/misc.py:65\u001b[0m, in \u001b[0;36mload_object\u001b[0;34m(filename)\u001b[0m\n\u001b[1;32m     64\u001b[0m \u001b[38;5;28;01mdef\u001b[39;00m \u001b[38;5;21mload_object\u001b[39m(filename):\n\u001b[0;32m---> 65\u001b[0m     \u001b[38;5;28;01mwith\u001b[39;00m \u001b[38;5;28;43mopen\u001b[39;49m\u001b[43m(\u001b[49m\u001b[43mfilename\u001b[49m\u001b[43m,\u001b[49m\u001b[43m \u001b[49m\u001b[38;5;124;43m\"\u001b[39;49m\u001b[38;5;124;43mrb\u001b[39;49m\u001b[38;5;124;43m\"\u001b[39;49m\u001b[43m)\u001b[49m \u001b[38;5;28;01mas\u001b[39;00m f:\n\u001b[1;32m     66\u001b[0m         \u001b[38;5;28;01mreturn\u001b[39;00m pickle\u001b[38;5;241m.\u001b[39mload(f)\n",
      "\u001b[0;31mFileNotFoundError\u001b[0m: [Errno 2] No such file or directory: 'gprime_out/tempfiles/100_0_0_0_0_done.pkl'"
     ]
    }
   ],
   "source": [
    "test_fn = \"gprime_out/tempfiles/100_0_0_0_0_done.pkl\"\n",
    "\n",
    "obj = gp.load_object(test_fn)\n",
    "\n"
   ]
  },
  {
   "cell_type": "code",
   "execution_count": null,
   "metadata": {},
   "outputs": [
    {
     "name": "stdout",
     "output_type": "stream",
     "text": [
      "Finished process\n"
     ]
    }
   ],
   "source": [
    "print(gp.gprime_stop_codes[obj.stop_code])\n",
    "\n"
   ]
  },
  {
   "cell_type": "code",
   "execution_count": 2,
   "metadata": {},
   "outputs": [
    {
     "ename": "NameError",
     "evalue": "name 'obj' is not defined",
     "output_type": "error",
     "traceback": [
      "\u001b[0;31m---------------------------------------------------------------------------\u001b[0m",
      "\u001b[0;31mNameError\u001b[0m                                 Traceback (most recent call last)",
      "Cell \u001b[0;32mIn[2], line 20\u001b[0m\n\u001b[1;32m     17\u001b[0m     \u001b[38;5;66;03m# for label, isolist in zip([\"MOD\", \"BGADDED\", \"BGSUB\"], gp_object.isophote_lists):\u001b[39;00m\n\u001b[1;32m     18\u001b[0m     \u001b[38;5;66;03m#     hdul.append(fits.BinTableHDU(data = isolist[\"ISOLIST\"].to_table()))\u001b[39;00m\n\u001b[1;32m     19\u001b[0m     hdul\u001b[38;5;241m.\u001b[39mwriteto(filename, overwrite\u001b[38;5;241m=\u001b[39m\u001b[38;5;28;01mTrue\u001b[39;00m)\n\u001b[0;32m---> 20\u001b[0m to_fits(\u001b[43mobj\u001b[49m)\n",
      "\u001b[0;31mNameError\u001b[0m: name 'obj' is not defined"
     ]
    }
   ],
   "source": [
    "def to_fits(gp_object, filename=\"test_fits.fits\"):\n",
    "    hdul = fits.HDUList()\n",
    "\n",
    "    head = fits.Header()\n",
    "    head[\"ID\"] = obj.id\n",
    "    cfg_head = gp.header_from_config(gp_object.config)\n",
    "    cfg_head.update(gp_object.params)\n",
    "\n",
    "    for param_name, param in cfg_head.items():\n",
    "        head[param_name] = param\n",
    "\n",
    "    hdul.append(fits.PrimaryHDU(header=head))\n",
    "    hdul.append(fits.ImageHDU(data=gp_object.convolved_model, name=\"CONV MOD\"))\n",
    "    hdul.append(fits.ImageHDU(data=gp_object.bg, name=\"BG\"))\n",
    "    hdul.append(fits.ImageHDU(data=gp_object.bg_model, name=\"BG MOD\"))\n",
    "    \n",
    "    # for label, isolist in zip([\"MOD\", \"BGADDED\", \"BGSUB\"], gp_object.isophote_lists):\n",
    "    #     hdul.append(fits.BinTableHDU(data = isolist[\"ISOLIST\"].to_table()))\n",
    "    hdul.writeto(filename, overwrite=True)\n",
    "to_fits(obj)"
   ]
  },
  {
   "cell_type": "code",
   "execution_count": 3,
   "metadata": {},
   "outputs": [
    {
     "name": "stdout",
     "output_type": "stream",
     "text": [
      "MODEL_PROFS \t gprime_out/model_profiles/\n",
      "COADD_PROFS \t gprime_out/coadd_profiles/\n",
      "BGSUB_PROFS \t gprime_out/bgsub_profiles/\n",
      "MEDIANS \t gprime_out/medians/\n",
      "ADDL_DATA \t gprime_out/additional_data/\n",
      "TEMP \t gprime_out/tempfiles/\n"
     ]
    }
   ],
   "source": [
    "output = gp.load_object(\"gprime_out/additional_data/11121111_1_2_1.pkl\")\n",
    "config = gp.read_config_file(\"myconfig.gprime\")\n",
    "\n",
    "run_id = 11121111\n",
    "config[\"RUN_ID\"] = run_id\n",
    "bin_id = \"0_0_0\"\n",
    "outdirs = gp.gen_filestructure(config[\"OUTDIR\"])\n",
    "for key, val in outdirs.items():\n",
    "    print(key, \"\\t\", val)"
   ]
  },
  {
   "cell_type": "code",
   "execution_count": 5,
   "metadata": {},
   "outputs": [],
   "source": [
    "gp.handle_output(output, outdirs, config, bin_id=bin_id)"
   ]
  },
  {
   "cell_type": "code",
   "execution_count": null,
   "metadata": {},
   "outputs": [],
   "source": [
    "\n",
    "def highest_sma(profile_list):\n",
    "    return np.min([max(profile.sma) for profile in profile_list])\n",
    "\n",
    "\n",
    "def profiles_norm_sma(profile_list):\n",
    "    sma_max = highest_sma(profile_list)\n",
    "    sma_interp = np.arange(1, sma_max, 2)\n",
    "    profile_interps = [interp1d(profile.sma, profile.intens, kind=\"linear\", \n",
    "                                fill_value=0, bounds_error=False,\n",
    "                                ) for profile in profile_list]\n",
    "    profiles_stacked = np.vstack([interp(sma_interp) for interp in profile_interps])\n",
    "    return sma_interp, profiles_stacked\n",
    "\n",
    "\n",
    "def _median(profile_stack):\n",
    "    return np.median(profile_stack, axis=0)\n",
    "\n",
    "\n",
    "def gen_median(profile_list):\n",
    "    profile_stack = profiles_norm_sma(profile_list)[1]\n",
    "    return _median(profile_stack)\n",
    "\n",
    "\n",
    "\n",
    "def bootstrap_median(profile_list, n_bootstraps=10000):\n",
    "    smas, profile_stack = profiles_norm_sma(profile_list)\n",
    "\n",
    "    # plt.imshow(profile_stack, aspect=\"auto\", vmin=-0.005, vmax=0.005)\n",
    "\n",
    "    sample_indices = np.random.choice(profile_stack.shape[0], (n_bootstraps, profile_stack.shape[0]), replace=True)\n",
    "\n",
    "    medians = np.vstack([_median(profile_stack[sample]) for sample in sample_indices])\n",
    "\n",
    "    sorted = np.sort(medians, axis=0)\n",
    "\n",
    "    lower_index_1sig, upper_index_1sig = int(n_bootstraps * 0.159), int(n_bootstraps * 0.841)\n",
    "    lower_index_2sig, upper_index_2sig = int(n_bootstraps * 0.023), int(n_bootstraps * 0.977)\n",
    "    lower_index_3sig, upper_index_3sig = int(n_bootstraps * 0.002), int(n_bootstraps * 0.998)\n",
    "\n",
    "    lower_1sig, upper_1sig = sorted[lower_index_1sig], sorted[upper_index_1sig]\n",
    "    lower_2sig, upper_2sig = sorted[lower_index_2sig], sorted[upper_index_2sig]\n",
    "    lower_3sig, upper_3sig = sorted[lower_index_3sig], sorted[upper_index_3sig]\n",
    "\n",
    "    upper = np.vstack([upper_1sig, upper_2sig, upper_3sig])\n",
    "    lower = np.vstack([lower_1sig, lower_2sig, lower_3sig])\n",
    "\n",
    "    return smas, _median(profile_stack), lower, upper\n",
    "\n",
    "bare_smas, bare_median, bare_low, bare_up = bootstrap_median(bare_profiles)\n",
    "coadd_smas, coadd_median, coadd_low, coadd_up = bootstrap_median(coadd_profiles)\n",
    "bgsub_smas, bgsub_median, bgsub_low, bgsub_up = bootstrap_median(bgsub_profiles)\n"
   ]
  }
 ],
 "metadata": {
  "kernelspec": {
   "display_name": "jelly",
   "language": "python",
   "name": "python3"
  },
  "language_info": {
   "codemirror_mode": {
    "name": "ipython",
    "version": 3
   },
   "file_extension": ".py",
   "mimetype": "text/x-python",
   "name": "python",
   "nbconvert_exporter": "python",
   "pygments_lexer": "ipython3",
   "version": "3.9.18"
  }
 },
 "nbformat": 4,
 "nbformat_minor": 2
}
