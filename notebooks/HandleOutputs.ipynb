{
 "cells": [
  {
   "cell_type": "code",
   "execution_count": 21,
   "metadata": {},
   "outputs": [],
   "source": [
    "import galprime as gp\n",
    "\n",
    "from matplotlib import pyplot as plt\n",
    "\n",
    "from astropy.io import fits\n",
    "\n",
    "import warnings\n",
    "warnings.filterwarnings('ignore')"
   ]
  },
  {
   "cell_type": "code",
   "execution_count": 2,
   "metadata": {},
   "outputs": [],
   "source": [
    "test_fn = \"gprime_out/tempfiles/100_0_0_0_0_done.pkl\"\n",
    "\n",
    "obj = gp.load_object(test_fn)\n",
    "\n"
   ]
  },
  {
   "cell_type": "code",
   "execution_count": 16,
   "metadata": {},
   "outputs": [
    {
     "name": "stdout",
     "output_type": "stream",
     "text": [
      "Finished process\n"
     ]
    }
   ],
   "source": [
    "print(gp.gprime_stop_codes[obj.stop_code])\n",
    "\n"
   ]
  },
  {
   "cell_type": "code",
   "execution_count": 39,
   "metadata": {},
   "outputs": [],
   "source": [
    "def to_fits(gp_object, filename=\"test_fits.fits\"):\n",
    "    hdul = fits.HDUList()\n",
    "\n",
    "    head = fits.Header()\n",
    "    head[\"ID\"] = obj.id\n",
    "    cfg_head = gp.header_from_config(gp_object.config)\n",
    "    cfg_head.update(gp_object.params)\n",
    "\n",
    "    for param_name, param in cfg_head.items():\n",
    "        head[param_name] = param\n",
    "\n",
    "    hdul.append(fits.PrimaryHDU(header=head))\n",
    "    hdul.append(fits.ImageHDU(data=gp_object.convolved_model, name=\"CONV MOD\"))\n",
    "    hdul.append(fits.ImageHDU(data=gp_object.bg, name=\"BG\"))\n",
    "    hdul.append(fits.ImageHDU(data=gp_object.bg_model, name=\"BG MOD\"))\n",
    "    \n",
    "    # for label, isolist in zip([\"MOD\", \"BGADDED\", \"BGSUB\"], gp_object.isophote_lists):\n",
    "    #     hdul.append(fits.BinTableHDU(data = isolist[\"ISOLIST\"].to_table()))\n",
    "    hdul.writeto(filename, overwrite=True)\n",
    "to_fits(obj)"
   ]
  },
  {
   "cell_type": "code",
   "execution_count": 35,
   "metadata": {},
   "outputs": [
    {
     "name": "stdout",
     "output_type": "stream",
     "text": [
      "Filename: test_fits.fits\n",
      "No.    Name      Ver    Type      Cards   Dimensions   Format\n",
      "  0  PRIMARY       1 PrimaryHDU      47   ()      \n",
      "  1  CONV MOD      1 ImageHDU         8   (451, 451)   float64   \n",
      "  2  BG            1 ImageHDU         8   (451, 451)   float32   \n",
      "  3  BG MOD        1 ImageHDU         8   (451, 451)   float64   \n"
     ]
    }
   ],
   "source": [
    "with fits.open(\"test_fits.fits\") as hdul:\n",
    "    hdul.info()"
   ]
  }
 ],
 "metadata": {
  "kernelspec": {
   "display_name": "jelly",
   "language": "python",
   "name": "python3"
  },
  "language_info": {
   "codemirror_mode": {
    "name": "ipython",
    "version": 3
   },
   "file_extension": ".py",
   "mimetype": "text/x-python",
   "name": "python",
   "nbconvert_exporter": "python",
   "pygments_lexer": "ipython3",
   "version": "3.9.18"
  }
 },
 "nbformat": 4,
 "nbformat_minor": 2
}
