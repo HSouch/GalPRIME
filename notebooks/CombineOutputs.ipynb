{
 "cells": [
  {
   "cell_type": "code",
   "execution_count": 2,
   "metadata": {},
   "outputs": [],
   "source": [
    "import galprime as gp\n",
    "\n",
    "from astropy.io import fits\n",
    "from astropy.table import Table\n",
    "\n",
    "import os\n",
    "\n",
    "from tqdm import tqdm"
   ]
  },
  {
   "cell_type": "code",
   "execution_count": 3,
   "metadata": {},
   "outputs": [
    {
     "name": "stderr",
     "output_type": "stream",
     "text": [
      "Combining profiles in model_profiles: 100%|██████████| 25/25 [00:00<00:00, 341555.70it/s]\n",
      "Combining profiles in coadd_profiles: 100%|██████████| 25/25 [00:00<00:00, 676500.65it/s]\n",
      "Combining profiles in bgsub_profiles: 100%|██████████| 25/25 [00:00<00:00, 733269.93it/s]\n"
     ]
    }
   ],
   "source": [
    "\n",
    "gp.combine_outputs(\"gprime_sims/gprime_out_bgsub/\", \"gprime_sims/gprime_out_bgsub_2/\", \n",
    "                12261553, 12261630,  \"gprime_bgsub/\")"
   ]
  },
  {
   "cell_type": "code",
   "execution_count": null,
   "metadata": {},
   "outputs": [],
   "source": []
  }
 ],
 "metadata": {
  "kernelspec": {
   "display_name": "jelly",
   "language": "python",
   "name": "python3"
  },
  "language_info": {
   "codemirror_mode": {
    "name": "ipython",
    "version": 3
   },
   "file_extension": ".py",
   "mimetype": "text/x-python",
   "name": "python",
   "nbconvert_exporter": "python",
   "pygments_lexer": "ipython3",
   "version": "3.9.18"
  }
 },
 "nbformat": 4,
 "nbformat_minor": 2
}
