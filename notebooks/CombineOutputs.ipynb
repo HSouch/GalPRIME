{
 "cells": [
  {
   "cell_type": "code",
   "execution_count": 1,
   "metadata": {},
   "outputs": [],
   "source": [
    "import galprime as gp\n",
    "\n",
    "from astropy.io import fits\n",
    "from astropy.table import Table\n",
    "\n",
    "import os\n",
    "\n",
    "from tqdm import tqdm"
   ]
  },
  {
   "cell_type": "code",
   "execution_count": 8,
   "metadata": {},
   "outputs": [
    {
     "name": "stderr",
     "output_type": "stream",
     "text": [
      "Combining profiles in model_profiles: 100%|██████████| 24/24 [07:35<00:00, 18.98s/it]\n",
      "Combining profiles in coadd_profiles: 100%|██████████| 24/24 [06:18<00:00, 15.75s/it]\n",
      "Combining profiles in bgsub_profiles: 100%|██████████| 24/24 [06:31<00:00, 16.32s/it]\n"
     ]
    }
   ],
   "source": [
    "def hdul_to_table(hdul):\n",
    "    return Table.read(hdul, format='fits')\n",
    "\n",
    "\n",
    "def combine_profile_sets(loc_1, loc_2, run_id_1, run_id_2, outdir):\n",
    "    files_1 = [f.removeprefix(f'{run_id_1}') for f in os.listdir(loc_1) if f.endswith('.fits')]\n",
    "    files_2 = [f.removeprefix(f'{run_id_2}') for f in os.listdir(loc_2) if f.endswith('.fits')]\n",
    "    \n",
    "    medians = {}\n",
    "\n",
    "    for f in tqdm(files_1, desc=f\"Combining profiles in {loc_1.split('/')[-2]}\"):\n",
    "        if f not in files_2:\n",
    "           continue\n",
    "        \n",
    "        with fits.open(f\"{loc_1}/{run_id_1}{f}\") as hdul:\n",
    "            data_1 = hdul[1:]\n",
    "\n",
    "            with fits.open(f\"{loc_2}/{run_id_2}{f}\") as hdul:\n",
    "                data_2 = hdul[1:]\n",
    "        \n",
    "                hdul_out_new = fits.HDUList()\n",
    "                hdul_out_new.append(fits.PrimaryHDU())\n",
    "\n",
    "                hdul_out_new.extend(data_1)\n",
    "                hdul_out_new.extend(data_2)\n",
    "                hdul_out_new.writeto(f\"{outdir}/{f}\", overwrite=True)\n",
    "\n",
    "                profiles = [hdul_to_table(hdul) for hdul in data_1]\n",
    "                profiles.extend([hdul_to_table(hdul) for hdul in data_2])\n",
    "\n",
    "        smas, median, low, up = gp.bootstrap_median(profiles, dtype=\"table\")\n",
    "\n",
    "        medians[f] = [smas, median, low, up]\n",
    "\n",
    "    return medians\n",
    "\n",
    "\n",
    "def combine_outputs(filedir_1, filedir_2, run_id_1, run_id_2, outdir):\n",
    "\n",
    "    output_files = gp.gen_filestructure(outdir)\n",
    "\n",
    "    files_1 = gp.gen_filestructure(filedir_1, generate=False)\n",
    "    files_2 = gp.gen_filestructure(filedir_2, generate=False)\n",
    "\n",
    "    to_combine = [\"MODEL_PROFS\", \"COADD_PROFS\", \"BGSUB_PROFS\"]\n",
    "    median_sets = []\n",
    "    for key in to_combine:\n",
    "        median_sets.append(combine_profile_sets(files_1[key], files_2[key], \n",
    "                                                run_id_1, run_id_2, \n",
    "                                                output_files[key]))\n",
    "    bare_sets, coadd_sets, bgsub_sets = median_sets\n",
    "    for f in bare_sets.keys():\n",
    "        bare_table = gp.gen_median_table(*bare_sets[f])\n",
    "        coadd_table = gp.gen_median_table(*coadd_sets[f])\n",
    "        bgsub_table = gp.gen_median_table(*bgsub_sets[f])\n",
    "\n",
    "        gp.gen_median_hdul(bare_table, coadd_table, bgsub_table, \n",
    "                           outname=f'{output_files[\"MEDIANS\"]}{f}')\n",
    "\n",
    "\n",
    "combine_outputs(\"gprime_sims/gprime_out/\", \"gprime_sims/gprime_out_1/\", \n",
    "                12261545, 12252008,  \"gprime_primary/\")"
   ]
  }
 ],
 "metadata": {
  "kernelspec": {
   "display_name": "jelly",
   "language": "python",
   "name": "python3"
  },
  "language_info": {
   "codemirror_mode": {
    "name": "ipython",
    "version": 3
   },
   "file_extension": ".py",
   "mimetype": "text/x-python",
   "name": "python",
   "nbconvert_exporter": "python",
   "pygments_lexer": "ipython3",
   "version": "3.9.18"
  }
 },
 "nbformat": 4,
 "nbformat_minor": 2
}
