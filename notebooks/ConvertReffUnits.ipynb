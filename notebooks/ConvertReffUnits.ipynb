{
 "cells": [
  {
   "cell_type": "code",
   "execution_count": 2,
   "metadata": {},
   "outputs": [],
   "source": [
    "import galprime as gp\n",
    "\n",
    "from astropy.table import Table\n",
    "\n",
    "import numpy as np\n",
    "from astropy.cosmology import WMAP9 as cosmo\n",
    "\n",
    "from matplotlib import pyplot as plt"
   ]
  },
  {
   "cell_type": "code",
   "execution_count": 3,
   "metadata": {},
   "outputs": [],
   "source": [
    "config = gp.read_config_file(\"myconfig.gprime\")\n",
    "arcconv = config[\"MODEL\"][\"ARCCONV\"]"
   ]
  },
  {
   "cell_type": "code",
   "execution_count": 43,
   "metadata": {},
   "outputs": [
    {
     "name": "stdout",
     "output_type": "stream",
     "text": [
      "Removed 1948 rows with masked values\n",
      "['objID', 'z', 'Sp', 'Scale', 'Vmax', 'gg2d', 'e_gg2d', 'rg2d', 'e_rg2d', '__B_T_g', '__B_T_r', 'Re', 'e_Re', 'ellip_b', 'phib', 'Rd', 'e_Rd', 'i', 'e_i', 'phid', 'e_phid', 'ggMag', 'rgMag', 'nb', '_RA', '_DE', 'ellip_d']\n"
     ]
    }
   ],
   "source": [
    "\n",
    "tab = Table.read(\"../pdata/Simard_BD_Table.fits\")\n",
    "tab = gp.check_and_remove_masked(tab)\n",
    "print(tab.colnames)\n",
    "\n",
    "tab_new = tab.copy()"
   ]
  },
  {
   "cell_type": "code",
   "execution_count": 50,
   "metadata": {},
   "outputs": [
    {
     "name": "stderr",
     "output_type": "stream",
     "text": [
      "/Users/hsouch/anaconda3/envs/jelly/lib/python3.9/site-packages/astropy/units/quantity.py:666: RuntimeWarning: divide by zero encountered in divide\n",
      "  result = super().__array_ufunc__(function, method, *arrays, **kwargs)\n"
     ]
    }
   ],
   "source": [
    "size_cols = [\"Re\", \"Rd\", ]\n",
    "tab_new = tab.copy()\n",
    "\n",
    "pix_per_kpc = cosmo.arcsec_per_kpc_proper(tab_new[\"z\"]).value / arcconv\n",
    "mask = pix_per_kpc < 50\n",
    "tab_new = tab_new[mask]\n",
    "pix_per_kpc = pix_per_kpc[mask]\n",
    "\n",
    "for col in size_cols:\n",
    "    tab_new[col] = tab_new[col] * pix_per_kpc\n",
    "    \n",
    "\n",
    "tab_new.write(\"../pdata/Simard_BD_Table_pix.fits\", overwrite=True)"
   ]
  },
  {
   "cell_type": "code",
   "execution_count": 11,
   "metadata": {},
   "outputs": [
    {
     "name": "stdout",
     "output_type": "stream",
     "text": [
      "['ID', 'FUV', 'NUV', 'u', 'uS', 'g', 'r', 'i', 'z', 'y', 'err_FUV', 'err_NUV', 'err_u', 'err_uS', 'err_g', 'err_r', 'err_i', 'err_z', 'err_y', 'Z_BEST', 'Z_BEST68_LOW', 'Z_BEST68_HIGH', 'RA_1', 'DEC_1', 'MU_MAX_u', 'MU_MAX_uS', 'MU_MAX_g', 'MU_MAX_r', 'MU_MAX_i', 'MU_MAX_z', 'PATCH', 'TRACT', 'ZPHOT', 'MASS_MED', 'MASS_INF', 'MASS_SUP', 'AGE_MED', 'SFR_MED', 'SSFR_MED', 'CLASS', 'SequentialID', 'RA_ZEST', 'DEC_ZEST', 'CAPAK_ID', 'CAPAK_RA', 'CAPAK_DEC', 'ACS_MAG_AUTO', 'ACS_MAGERR_AUTO', 'ACS_X_IMAGE', 'ACS_Y_IMAGE', 'ACS_XPEAK_IMAGE', 'ACS_YPEAK_IMAGE', 'ACS_ALPHAPEAK_', 'ACS_DELTAPEAK_', 'ACS_A_IMAGE', 'ACS_B_IMAGE', 'ACS_THETA_IMAGE', 'ACS_ELONGATION', 'ACS_CLASS_STAR', 'ACS_IDENT', 'ACS_SE', 'ACS_MU_CLASS', 'ACS_OVERLAP', 'ACS_NEARSTAR', 'ACS_MASK', 'ACS_MASKED', 'ACS_CLEAN', 'ACS_UNIQUE', 'GG', 'M20', 'CC', 'AA', 'R20', 'R50', 'R80', 'RPET', 'FLAGRPET', 'FLUX_GIM2D', 'LE_FLUX_GIM2D', 'UE_FLUX_GIM2D', 'R_GIM2D', 'LE_R_GIM2D', 'UE_R_GIM2D', 'ELL_GIM2D', 'LE_ELL_GIM2D', 'UE_ELL_GIM2D', 'PA_GIM2D', 'LE_PA_GIM2D', 'UE_PA_GIM2D', 'DX_GIM2D', 'LE_DX_GIM2D', 'UE_DX_GIM2D', 'DY_GIM2D', 'LE_DY_GIM2D', 'UE_DY_GIM2D', 'SERSIC_N_GIM2D', 'LE_N_GIM2D', 'UE_N_GIM2D', 'R_0P5_GIM2D', 'CHI_GIM2D', 'ITER_GIM2D', 'PC_1', 'PC_2', 'PC_3', 'TYPE', 'BULG', 'IRRE', 'ELLI', 'STELLARITY', 'JUNKFLAG', 'col71', 'Separation_1', 'RA_2', 'DEC_2', 'sfProb', 'Separation']\n"
     ]
    }
   ],
   "source": [
    "tab = Table.read(\"../pdata/HSC-ZEST_CLEAN.fits\")\n",
    "print(tab.colnames)\n",
    "tab_new = tab.copy()\n"
   ]
  },
  {
   "cell_type": "code",
   "execution_count": 14,
   "metadata": {},
   "outputs": [],
   "source": [
    "size_cols = [\"R_GIM2D\"]\n",
    "tab_new = tab.copy()\n",
    "\n",
    "pix_per_kpc = cosmo.arcsec_per_kpc_proper(tab_new[\"z\"]).value / arcconv\n",
    "mask = pix_per_kpc < 50\n",
    "tab_new = tab_new[mask]\n",
    "pix_per_kpc = pix_per_kpc[mask]\n",
    "\n",
    "for col in size_cols:\n",
    "    tab_new[col] = tab_new[col] / config[\"MODEL\"][\"ARCCONV\"] \n",
    "\n",
    "tab_new.write(\"../pdata/HSC-ZEST_CLEAN_pix.fits\", overwrite=True)"
   ]
  },
  {
   "cell_type": "code",
   "execution_count": 19,
   "metadata": {},
   "outputs": [
    {
     "data": {
      "image/png": "[encoded data removed]",
      "text/plain": [
       "<Figure size 432x288 with 1 Axes>"
      ]
     },
     "metadata": {
      "needs_background": "light"
     },
     "output_type": "display_data"
    }
   ],
   "source": [
    "plt.hist(tab[\"R_GIM2D\"], bins=np.linspace(0, 10, 100))\n",
    "plt.hist(tab_new[\"R_GIM2D\"], bins=np.linspace(0, 10, 100))\n",
    "plt.show()"
   ]
  },
  {
   "cell_type": "code",
   "execution_count": 21,
   "metadata": {},
   "outputs": [
    {
     "name": "stdout",
     "output_type": "stream",
     "text": [
      "0.1 0.5952380952380952\n",
      "0.5 2.976190476190476\n",
      "1.0 5.952380952380952\n",
      "1.5 8.928571428571429\n"
     ]
    }
   ],
   "source": [
    "for r in [0.1, 0.5, 1.0, 1.5]:\n",
    "    print(r, r / config[\"MODEL\"][\"ARCCONV\"])"
   ]
  }
 ],
 "metadata": {
  "kernelspec": {
   "display_name": "jelly",
   "language": "python",
   "name": "python3"
  },
  "language_info": {
   "codemirror_mode": {
    "name": "ipython",
    "version": 3
   },
   "file_extension": ".py",
   "mimetype": "text/x-python",
   "name": "python",
   "nbconvert_exporter": "python",
   "pygments_lexer": "ipython3",
   "version": "3.9.18"
  }
 },
 "nbformat": 4,
 "nbformat_minor": 2
}
