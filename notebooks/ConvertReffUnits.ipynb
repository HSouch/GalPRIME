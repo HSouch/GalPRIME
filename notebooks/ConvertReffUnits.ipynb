{
 "cells": [
  {
   "cell_type": "code",
   "execution_count": 2,
   "metadata": {},
   "outputs": [],
   "source": [
    "import galprime as gp\n",
    "\n",
    "from astropy.table import Table\n",
    "\n",
    "import numpy as np\n",
    "from astropy.cosmology import WMAP9 as cosmo\n",
    "\n",
    "from matplotlib import pyplot as plt"
   ]
  },
  {
   "cell_type": "code",
   "execution_count": 19,
   "metadata": {},
   "outputs": [],
   "source": [
    "config = gp.read_config_file(\"myconfig.gprime\")\n",
    "arcconv = config[\"MODEL\"][\"ARCCONV\"]"
   ]
  },
  {
   "cell_type": "code",
   "execution_count": 43,
   "metadata": {},
   "outputs": [
    {
     "name": "stdout",
     "output_type": "stream",
     "text": [
      "Removed 1948 rows with masked values\n",
      "['objID', 'z', 'Sp', 'Scale', 'Vmax', 'gg2d', 'e_gg2d', 'rg2d', 'e_rg2d', '__B_T_g', '__B_T_r', 'Re', 'e_Re', 'ellip_b', 'phib', 'Rd', 'e_Rd', 'i', 'e_i', 'phid', 'e_phid', 'ggMag', 'rgMag', 'nb', '_RA', '_DE', 'ellip_d']\n"
     ]
    }
   ],
   "source": [
    "\n",
    "tab = Table.read(\"../pdata/Simard_BD_Table.fits\")\n",
    "tab = gp.check_and_remove_masked(tab)\n",
    "print(tab.colnames)\n",
    "\n",
    "tab_new = tab.copy()"
   ]
  },
  {
   "cell_type": "code",
   "execution_count": 50,
   "metadata": {},
   "outputs": [
    {
     "name": "stderr",
     "output_type": "stream",
     "text": [
      "/Users/hsouch/anaconda3/envs/jelly/lib/python3.9/site-packages/astropy/units/quantity.py:666: RuntimeWarning: divide by zero encountered in divide\n",
      "  result = super().__array_ufunc__(function, method, *arrays, **kwargs)\n"
     ]
    }
   ],
   "source": [
    "size_cols = [\"Re\", \"Rd\", ]\n",
    "tab_new = tab.copy()\n",
    "\n",
    "pix_per_kpc = cosmo.arcsec_per_kpc_proper(tab_new[\"z\"]).value / arcconv\n",
    "mask = pix_per_kpc < 50\n",
    "tab_new = tab_new[mask]\n",
    "pix_per_kpc = pix_per_kpc[mask]\n",
    "\n",
    "for col in size_cols:\n",
    "    tab_new[col] = tab_new[col] * pix_per_kpc\n",
    "    \n",
    "\n",
    "tab_new.write(\"../pdata/Simard_BD_Table_pix.fits\", overwrite=True)"
   ]
  }
 ],
 "metadata": {
  "kernelspec": {
   "display_name": "jelly",
   "language": "python",
   "name": "python3"
  },
  "language_info": {
   "codemirror_mode": {
    "name": "ipython",
    "version": 3
   },
   "file_extension": ".py",
   "mimetype": "text/x-python",
   "name": "python",
   "nbconvert_exporter": "python",
   "pygments_lexer": "ipython3",
   "version": "3.9.18"
  }
 },
 "nbformat": 4,
 "nbformat_minor": 2
}
