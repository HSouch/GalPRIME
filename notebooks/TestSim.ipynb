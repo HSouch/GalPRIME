{
 "cells": [
  {
   "cell_type": "code",
   "execution_count": 1,
   "metadata": {},
   "outputs": [],
   "source": [
    "import galprime as gp\n",
    "\n",
    "from astropy.table import Table\n",
    "\n",
    "from astropy.io import fits\n",
    "\n",
    "from scipy.interpolate import interp1d\n",
    "from matplotlib import pyplot as plt\n",
    "import numpy as np\n",
    "\n",
    "import warnings\n",
    "warnings.filterwarnings(\"ignore\")"
   ]
  },
  {
   "cell_type": "code",
   "execution_count": 3,
   "metadata": {},
   "outputs": [],
   "source": [
    "class GPrime:\n",
    "    def __init__(self, config_filename, **kwargs):\n",
    "        self.config = c = gp.read_config_file(config_filename)\n",
    "        self.binlist = None\n",
    "        self.run_id = kwargs.get(\"run_id\", np.random.randint(1e3, 1e4))\n",
    "        self.outfiles = gp.gen_filestructure(c[\"DIRS\"][\"OUTDIR\"])\n",
    "\n",
    "        self.log_level = kwargs.get(\"log_level\", 20)\n",
    "        self.logger = gp.setup_logging(self.run_id, self.log_level, \n",
    "                                          log_filename=f'{c[\"DIRS\"][\"OUTDIR\"]}output_{self.run_id}.log')\n",
    "        self.logger.info(f\"Starting run ID:{self.run_id}, GalPRIME Version: {gp.__version__}\", )\n",
    "        \n",
    "        print(f\"Starting run ID:{self.run_id}\")\n",
    "        print(f'Logfile saved to: {c[\"DIRS\"][\"OUTDIR\"]}output_{self.run_id}.log')\n",
    "\n",
    "        # Load in all necessary files (backgrounds, psfs, catalogues, etc)\n",
    "        self.bgs = gp.Cutouts.from_file(f'{c[\"FILE_DIR\"]}{c[\"FILES\"][\"BACKGROUNDS\"]}', \n",
    "                                             logger=self.logger)\n",
    "        \n",
    "        self.psfs = gp.Cutouts.from_file(f'{c[\"FILE_DIR\"]}{c[\"FILES\"][\"PSFS\"]}', logger=self.logger)\n",
    "        self.psfs.get_ra_dec(ra_key=c[\"PSFS\"][\"PSF_RA\"], dec_key=c[\"PSFS\"][\"PSF_DEC\"])\n",
    "        \n",
    "        self.table = Table.read(f'{c[\"FILE_DIR\"]}{c[\"FILES\"][\"CATALOGUE\"]}')\n",
    "        self.table = gp.trim_table(self.table, c)\n",
    "        \n",
    "        if c[\"FILES\"][\"MAG_CATALOGUE\"] is not None:\n",
    "            self.mags = Table.read(f'{c[\"FILE_DIR\"]}{c[\"FILES\"][\"MAG_CATALOGUE\"]}')\n",
    "            self.mag_kde = gp.object_kde(self.mags[c[\"KEYS\"][\"MAG\"]])\n",
    "        else:\n",
    "            self.mags = self.mag_kde = None\n",
    "    \n",
    "    def run(self, max_bins=None):\n",
    "        c = self.config\n",
    "\n",
    "        self.binlist = gp.bin_catalogue(self.table, bin_params=c[\"BINS\"], params=c[\"KEYS\"], logger=self.logger)\n",
    "        max_bins = len(self.binlist.bins) if max_bins is None else min(max_bins, len(self.binlist.bins))\n",
    "\n",
    "        for b in self.binlist.bins:\n",
    "            print(b.bin_id())"
   ]
  },
  {
   "cell_type": "code",
   "execution_count": 4,
   "metadata": {},
   "outputs": [
    {
     "name": "stdout",
     "output_type": "stream",
     "text": [
      "Starting run ID:1237\n",
      "Logfile saved to: gprime_out/output_1237.log\n"
     ]
    },
    {
     "ename": "KeyError",
     "evalue": "'FILE_DIR'",
     "output_type": "error",
     "traceback": [
      "\u001b[0;31m---------------------------------------------------------------------------\u001b[0m",
      "\u001b[0;31mKeyError\u001b[0m                                  Traceback (most recent call last)",
      "Cell \u001b[0;32mIn[4], line 3\u001b[0m\n\u001b[1;32m      1\u001b[0m config_filename \u001b[38;5;241m=\u001b[39m \u001b[38;5;124m\"\u001b[39m\u001b[38;5;124mmyconfig.gprime\u001b[39m\u001b[38;5;124m\"\u001b[39m\n\u001b[0;32m----> 3\u001b[0m sim \u001b[38;5;241m=\u001b[39m GPrime(config_filename, log_level\u001b[38;5;241m=\u001b[39m\u001b[38;5;241m20\u001b[39m, run_id\u001b[38;5;241m=\u001b[39m\u001b[38;5;241m1237\u001b[39m)\n\u001b[1;32m      5\u001b[0m run \u001b[38;5;241m=\u001b[39m sim\u001b[38;5;241m.\u001b[39mrun(max_bins\u001b[38;5;241m=\u001b[39m\u001b[38;5;241m1\u001b[39m)\n",
      "Cell \u001b[0;32mIn[3], line 17\u001b[0m, in \u001b[0;36mGPrime.__init__\u001b[0;34m(self, config_filename, **kwargs)\u001b[0m\n\u001b[1;32m     14\u001b[0m \u001b[38;5;28mprint\u001b[39m(\u001b[38;5;124mf\u001b[39m\u001b[38;5;124m'\u001b[39m\u001b[38;5;124mLogfile saved to: \u001b[39m\u001b[38;5;132;01m{\u001b[39;00mc[\u001b[38;5;124m\"\u001b[39m\u001b[38;5;124mDIRS\u001b[39m\u001b[38;5;124m\"\u001b[39m][\u001b[38;5;124m\"\u001b[39m\u001b[38;5;124mOUTDIR\u001b[39m\u001b[38;5;124m\"\u001b[39m]\u001b[38;5;132;01m}\u001b[39;00m\u001b[38;5;124moutput_\u001b[39m\u001b[38;5;132;01m{\u001b[39;00m\u001b[38;5;28mself\u001b[39m\u001b[38;5;241m.\u001b[39mrun_id\u001b[38;5;132;01m}\u001b[39;00m\u001b[38;5;124m.log\u001b[39m\u001b[38;5;124m'\u001b[39m)\n\u001b[1;32m     16\u001b[0m \u001b[38;5;66;03m# Load in all necessary files (backgrounds, psfs, catalogues, etc)\u001b[39;00m\n\u001b[0;32m---> 17\u001b[0m \u001b[38;5;28mself\u001b[39m\u001b[38;5;241m.\u001b[39mbgs \u001b[38;5;241m=\u001b[39m gp\u001b[38;5;241m.\u001b[39mCutouts\u001b[38;5;241m.\u001b[39mfrom_file(\u001b[38;5;124mf\u001b[39m\u001b[38;5;124m'\u001b[39m\u001b[38;5;132;01m{\u001b[39;00mc[\u001b[38;5;124m\"\u001b[39m\u001b[38;5;124mFILE_DIR\u001b[39m\u001b[38;5;124m\"\u001b[39m]\u001b[38;5;132;01m}\u001b[39;00m\u001b[38;5;132;01m{\u001b[39;00mc[\u001b[38;5;124m\"\u001b[39m\u001b[38;5;124mFILES\u001b[39m\u001b[38;5;124m\"\u001b[39m][\u001b[38;5;124m\"\u001b[39m\u001b[38;5;124mBACKGROUNDS\u001b[39m\u001b[38;5;124m\"\u001b[39m]\u001b[38;5;132;01m}\u001b[39;00m\u001b[38;5;124m'\u001b[39m, \n\u001b[1;32m     18\u001b[0m                                      logger\u001b[38;5;241m=\u001b[39m\u001b[38;5;28mself\u001b[39m\u001b[38;5;241m.\u001b[39mlogger)\n\u001b[1;32m     20\u001b[0m \u001b[38;5;28mself\u001b[39m\u001b[38;5;241m.\u001b[39mpsfs \u001b[38;5;241m=\u001b[39m gp\u001b[38;5;241m.\u001b[39mCutouts\u001b[38;5;241m.\u001b[39mfrom_file(\u001b[38;5;124mf\u001b[39m\u001b[38;5;124m'\u001b[39m\u001b[38;5;132;01m{\u001b[39;00mc[\u001b[38;5;124m\"\u001b[39m\u001b[38;5;124mFILE_DIR\u001b[39m\u001b[38;5;124m\"\u001b[39m]\u001b[38;5;132;01m}\u001b[39;00m\u001b[38;5;132;01m{\u001b[39;00mc[\u001b[38;5;124m\"\u001b[39m\u001b[38;5;124mFILES\u001b[39m\u001b[38;5;124m\"\u001b[39m][\u001b[38;5;124m\"\u001b[39m\u001b[38;5;124mPSFS\u001b[39m\u001b[38;5;124m\"\u001b[39m]\u001b[38;5;132;01m}\u001b[39;00m\u001b[38;5;124m'\u001b[39m, logger\u001b[38;5;241m=\u001b[39m\u001b[38;5;28mself\u001b[39m\u001b[38;5;241m.\u001b[39mlogger)\n\u001b[1;32m     21\u001b[0m \u001b[38;5;28mself\u001b[39m\u001b[38;5;241m.\u001b[39mpsfs\u001b[38;5;241m.\u001b[39mget_ra_dec(ra_key\u001b[38;5;241m=\u001b[39mc[\u001b[38;5;124m\"\u001b[39m\u001b[38;5;124mPSFS\u001b[39m\u001b[38;5;124m\"\u001b[39m][\u001b[38;5;124m\"\u001b[39m\u001b[38;5;124mPSF_RA\u001b[39m\u001b[38;5;124m\"\u001b[39m], dec_key\u001b[38;5;241m=\u001b[39mc[\u001b[38;5;124m\"\u001b[39m\u001b[38;5;124mPSFS\u001b[39m\u001b[38;5;124m\"\u001b[39m][\u001b[38;5;124m\"\u001b[39m\u001b[38;5;124mPSF_DEC\u001b[39m\u001b[38;5;124m\"\u001b[39m])\n",
      "File \u001b[0;32m~/anaconda3/lib/python3.11/site-packages/configobj/__init__.py:554\u001b[0m, in \u001b[0;36mSection.__getitem__\u001b[0;34m(self, key)\u001b[0m\n\u001b[1;32m    552\u001b[0m \u001b[38;5;28;01mdef\u001b[39;00m \u001b[38;5;21m__getitem__\u001b[39m(\u001b[38;5;28mself\u001b[39m, key):\n\u001b[1;32m    553\u001b[0m \u001b[38;5;250m    \u001b[39m\u001b[38;5;124;03m\"\"\"Fetch the item and do string interpolation.\"\"\"\u001b[39;00m\n\u001b[0;32m--> 554\u001b[0m     val \u001b[38;5;241m=\u001b[39m \u001b[38;5;28mdict\u001b[39m\u001b[38;5;241m.\u001b[39m\u001b[38;5;21m__getitem__\u001b[39m(\u001b[38;5;28mself\u001b[39m, key)\n\u001b[1;32m    555\u001b[0m     \u001b[38;5;28;01mif\u001b[39;00m \u001b[38;5;28mself\u001b[39m\u001b[38;5;241m.\u001b[39mmain\u001b[38;5;241m.\u001b[39minterpolation: \n\u001b[1;32m    556\u001b[0m         \u001b[38;5;28;01mif\u001b[39;00m \u001b[38;5;28misinstance\u001b[39m(val, six\u001b[38;5;241m.\u001b[39mstring_types):\n",
      "\u001b[0;31mKeyError\u001b[0m: 'FILE_DIR'"
     ]
    }
   ],
   "source": [
    "config_filename = \"myconfig.gprime\"\n",
    "\n",
    "sim = GPrime(config_filename, log_level=20, run_id=1237)\n",
    "\n",
    "run = sim.run(max_bins=1)"
   ]
  },
  {
   "cell_type": "code",
   "execution_count": null,
   "metadata": {},
   "outputs": [],
   "source": []
  }
 ],
 "metadata": {
  "kernelspec": {
   "display_name": "base",
   "language": "python",
   "name": "python3"
  },
  "language_info": {
   "codemirror_mode": {
    "name": "ipython",
    "version": 3
   },
   "file_extension": ".py",
   "mimetype": "text/x-python",
   "name": "python",
   "nbconvert_exporter": "python",
   "pygments_lexer": "ipython3",
   "version": "3.11.5"
  }
 },
 "nbformat": 4,
 "nbformat_minor": 2
}
