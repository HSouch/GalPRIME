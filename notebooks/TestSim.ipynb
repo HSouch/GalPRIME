{
 "cells": [
  {
   "cell_type": "code",
   "execution_count": 2,
   "metadata": {},
   "outputs": [],
   "source": [
    "import galprime as gp\n",
    "\n",
    "from astropy.table import Table\n",
    "\n",
    "from astropy.io import fits\n",
    "\n",
    "from scipy.interpolate import interp1d\n",
    "from matplotlib import pyplot as plt\n",
    "import numpy as np\n",
    "\n",
    "import warnings\n",
    "warnings.filterwarnings(\"ignore\")"
   ]
  },
  {
   "cell_type": "code",
   "execution_count": 3,
   "metadata": {},
   "outputs": [],
   "source": [
    "class GPrime:\n",
    "    def __init__(self, config_filename, **kwargs):\n",
    "        self.config = c = gp.read_config_file(config_filename)\n",
    "        self.binlist = None\n",
    "        self.run_id = kwargs.get(\"run_id\", np.random.randint(1e3, 1e4))\n",
    "        self.outfiles = gp.gen_filestructure(c[\"DIRS\"][\"OUTDIR\"])\n",
    "\n",
    "        self.model_type = c[\"MODEL\"][\"MODEL_TYPE\"]\n",
    "\n",
    "        self.log_level = kwargs.get(\"log_level\", 20)\n",
    "        self.logger = gp.setup_logging(self.run_id, self.log_level, \n",
    "                                          log_filename=f'{c[\"DIRS\"][\"OUTDIR\"]}output_{self.run_id}.log')\n",
    "        self.logger.info(f\"Starting run ID:{self.run_id}, GalPRIME Version: {gp.__version__}\", )\n",
    "\n",
    "\n",
    "        \n",
    "        print(f\"Starting run ID:{self.run_id}\")\n",
    "        print(f'Logfile saved to: {c[\"DIRS\"][\"OUTDIR\"]}output_{self.run_id}.log')\n",
    "\n",
    "        # Load in all necessary files (backgrounds, psfs, catalogues, etc)\n",
    "        self.bgs = gp.Cutouts.from_file(f'{c[\"FILE_DIR\"]}{c[\"FILES\"][\"BACKGROUNDS\"]}', \n",
    "                                             logger=self.logger)\n",
    "        \n",
    "        self.psfs = gp.Cutouts.from_file(f'{c[\"FILE_DIR\"]}{c[\"FILES\"][\"PSFS\"]}', logger=self.logger)\n",
    "        self.psfs.get_ra_dec(ra_key=c[\"PSFS\"][\"PSF_RA\"], dec_key=c[\"PSFS\"][\"PSF_DEC\"])\n",
    "        \n",
    "        self.table = Table.read(f'{c[\"FILE_DIR\"]}{c[\"FILES\"][\"CATALOGUE\"]}')\n",
    "        self.table = gp.trim_table(self.table, c)\n",
    "        \n",
    "        if c[\"FILES\"][\"MAG_CATALOGUE\"] is not None:\n",
    "            self.mags = Table.read(f'{c[\"FILE_DIR\"]}{c[\"FILES\"][\"MAG_CATALOGUE\"]}')\n",
    "            self.mag_kde = gp.object_kde(self.mags[c[\"KEYS\"][\"MAG\"]])\n",
    "        else:\n",
    "            self.mags = self.mag_kde = None\n",
    "    \n",
    "    def run(self, max_bins=None):\n",
    "        c = self.config\n",
    "\n",
    "        self.binlist = gp.bin_catalogue(self.table, bin_params=c[\"BINS\"], params=c[\"KEYS\"], logger=self.logger)\n",
    "        max_bins = len(self.binlist.bins) if max_bins is None else min(max_bins, len(self.binlist.bins))\n",
    "\n",
    "        model = gp.galaxy_models[self.model_type]\n",
    "\n",
    "        for i in range(max_bins):\n",
    "            self.process_bin(c, self.binlist.bins[i])\n",
    "\n",
    "\n",
    "    def process_bin(self, config, b: gp.Bin):\n",
    "        print(len(b.objects), type(b.objects))\n",
    "\n",
    "\n",
    "class GalPrimeSingle:\n",
    "    def __init__(self, config, model, params):\n",
    "        self.config = config\n",
    "        self.model = model\n",
    "        self.params = params\n",
    "    \n",
    "    def process():\n",
    "        pass\n",
    "        "
   ]
  },
  {
   "cell_type": "code",
   "execution_count": 4,
   "metadata": {},
   "outputs": [
    {
     "name": "stdout",
     "output_type": "stream",
     "text": [
      "Starting run ID:1237\n",
      "Logfile saved to: gprime_out/output_1237.log\n",
      "35 <class 'astropy.table.table.Table'>\n"
     ]
    }
   ],
   "source": [
    "config_filename = \"myconfig.gprime\"\n",
    "\n",
    "sim = GPrime(config_filename, log_level=20, run_id=1237)\n",
    "\n",
    "run = sim.run(max_bins=1)\n"
   ]
  },
  {
   "cell_type": "markdown",
   "metadata": {},
   "source": []
  }
 ],
 "metadata": {
  "kernelspec": {
   "display_name": "base",
   "language": "python",
   "name": "python3"
  },
  "language_info": {
   "codemirror_mode": {
    "name": "ipython",
    "version": 3
   },
   "file_extension": ".py",
   "mimetype": "text/x-python",
   "name": "python",
   "nbconvert_exporter": "python",
   "pygments_lexer": "ipython3",
   "version": "3.11.5"
  }
 },
 "nbformat": 4,
 "nbformat_minor": 2
}
