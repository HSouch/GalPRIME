{
 "cells": [
  {
   "cell_type": "code",
   "execution_count": 1,
   "metadata": {},
   "outputs": [],
   "source": [
    "import galprime as gp\n",
    "\n",
    "from astropy.table import Table\n",
    "\n",
    "from astropy.io import fits\n",
    "\n",
    "from scipy.interpolate import interp1d\n",
    "from matplotlib import pyplot as plt\n",
    "import numpy as np\n",
    "\n",
    "import warnings\n",
    "warnings.filterwarnings(\"ignore\")"
   ]
  },
  {
   "cell_type": "code",
   "execution_count": 2,
   "metadata": {},
   "outputs": [],
   "source": [
    "gp.dump_default_config_file()"
   ]
  },
  {
   "cell_type": "code",
   "execution_count": 3,
   "metadata": {},
   "outputs": [
    {
     "name": "stdout",
     "output_type": "stream",
     "text": [
      "Starting run ID:8576\n"
     ]
    }
   ],
   "source": [
    "config_filename = \"myconfig.gprime\"\n",
    "\n",
    "sim = gp.GPrime(config_filename, log_level=10)\n",
    "\n",
    "containers = sim.run(max_bins=1)"
   ]
  },
  {
   "cell_type": "code",
   "execution_count": null,
   "metadata": {},
   "outputs": [
    {
     "name": "stdout",
     "output_type": "stream",
     "text": [
      "[0, 0, 0] _0__0__0\n",
      "[0, 0, 1] _0__0__1\n",
      "[0, 1, 0] _0__1__0\n",
      "[0, 1, 1] _0__1__1\n",
      "[0, 2, 0] _0__2__0\n",
      "[0, 2, 1] _0__2__1\n",
      "[1, 0, 0] _1__0__0\n",
      "[1, 0, 1] _1__0__1\n",
      "[1, 1, 0] _1__1__0\n",
      "[1, 1, 1] _1__1__1\n",
      "[1, 2, 0] _1__2__0\n",
      "[1, 2, 1] _1__2__1\n",
      "[2, 0, 0] _2__0__0\n",
      "[2, 0, 1] _2__0__1\n",
      "[2, 1, 0] _2__1__0\n",
      "[2, 1, 1] _2__1__1\n",
      "[2, 2, 0] _2__2__0\n",
      "[2, 2, 1] _2__2__1\n",
      "[3, 0, 0] _3__0__0\n",
      "[3, 0, 1] _3__0__1\n",
      "[3, 1, 0] _3__1__0\n",
      "[3, 1, 1] _3__1__1\n",
      "[3, 2, 0] _3__2__0\n",
      "[3, 2, 1] _3__2__1\n"
     ]
    }
   ],
   "source": [
    "for b in sim.binlist.bins:\n",
    "    print(b.bin_indices, b.bin_id())\n",
    "    "
   ]
  }
 ],
 "metadata": {
  "kernelspec": {
   "display_name": "jelly",
   "language": "python",
   "name": "python3"
  },
  "language_info": {
   "codemirror_mode": {
    "name": "ipython",
    "version": 3
   },
   "file_extension": ".py",
   "mimetype": "text/x-python",
   "name": "python",
   "nbconvert_exporter": "python",
   "pygments_lexer": "ipython3",
   "version": "3.9.18"
  }
 },
 "nbformat": 4,
 "nbformat_minor": 2
}
