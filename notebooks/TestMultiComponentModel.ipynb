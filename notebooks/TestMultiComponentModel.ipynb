{
 "cells": [
  {
   "cell_type": "code",
   "execution_count": 1,
   "metadata": {},
   "outputs": [],
   "source": [
    "import galprime as gp\n",
    "\n",
    "import numpy as np\n",
    "\n",
    "from matplotlib import pyplot as plt\n",
    "\n",
    "from astropy.table import Table\n",
    "from astropy.cosmology import WMAP9 as cosmo\n",
    "\n",
    "\n",
    "from tqdm import tqdm"
   ]
  },
  {
   "cell_type": "code",
   "execution_count": 2,
   "metadata": {},
   "outputs": [
    {
     "name": "stdout",
     "output_type": "stream",
     "text": [
      "678593 ['objID', 'z', 'Sp', 'Scale', 'Vmax', 'gg2d', 'e_gg2d', 'rg2d', 'e_rg2d', '__B_T_g', '__B_T_r', 'Re', 'e_Re', 'ellip_b', 'phib', 'Rd', 'e_Rd', 'i', 'e_i', 'phid', 'e_phid', 'ggMag', 'rgMag', 'nb', '_RA', '_DE', 'ellip_d']\n"
     ]
    }
   ],
   "source": [
    "bd_table = Table.read(\"../pdata/Simard_BD_Table.fits\")\n",
    "\n",
    "print(len(bd_table), bd_table.colnames)\n",
    "\n",
    "config = gp.read_config_file(\"disk_bulge.gprime\")\n",
    "\n"
   ]
  },
  {
   "cell_type": "code",
   "execution_count": 3,
   "metadata": {},
   "outputs": [
    {
     "name": "stdout",
     "output_type": "stream",
     "text": [
      "['gg2d', '__B_T_g', 'Rd', 'nb', 'Re', 'ellip_d', 'ellip_b', 'z']\n"
     ]
    }
   ],
   "source": [
    "keys = config[\"KEYS\"].values()\n",
    "keys.extend(config[\"BINS\"].keys())\n",
    "print(keys)"
   ]
  },
  {
   "cell_type": "code",
   "execution_count": 4,
   "metadata": {},
   "outputs": [
    {
     "name": "stdout",
     "output_type": "stream",
     "text": [
      "Removed 1948 rows with masked values\n"
     ]
    }
   ],
   "source": [
    "bd_table_trimmed = gp.check_and_remove_masked(bd_table)\n",
    "binlist = gp.bin_catalogue(bd_table_trimmed, \n",
    "                           bin_params=config[\"BINS\"], \n",
    "                           params=config[\"KEYS\"])"
   ]
  },
  {
   "cell_type": "code",
   "execution_count": 5,
   "metadata": {},
   "outputs": [
    {
     "name": "stdout",
     "output_type": "stream",
     "text": [
      "{'MAG': 18.051094216254896, 'FBULGE': 0.855085656261783, 'REFF_BULGE': 5.452106188393653, 'N_BULGE': 4.4321353370038565, 'REFF_DISK': 3.6056998647301803, 'ELLIP_DISK': 0.6779848444761924, 'ELLIP_BULGE': 0.6284540927458591, 'SHAPE': 451, 'M0': 27.0, 'PA': 1.7228183493602107, 'BULGE_MAG': 18.2210701628305, 'BULGE_M0': 27.0, 'BULGE_REFF': 5.452106188393653, 'BULGE_N': 4.4321353370038565, 'BULGE_ELLIP': 0.6284540927458591, 'BULGE_PA': 1.7228183493602107, 'BULGE_X0': 225.5, 'BULGE_Y0': 225.5, 'BULGE_SHAPE': (451, 451), 'DISK_MAG': 20.14831578021582, 'DISK_M0': 27.0, 'DISK_REFF': 3.6056998647301803, 'DISK_N': 1.0, 'DISK_ELLIP': 0.6779848444761924, 'DISK_PA': 1.7228183493602107, 'DISK_X0': 225.5, 'DISK_Y0': 225.5, 'DISK_SHAPE': (451, 451)}\n"
     ]
    },
    {
     "data": {
      "text/plain": [
       "<matplotlib.colorbar.Colorbar at 0x17f676f40>"
      ]
     },
     "execution_count": 5,
     "metadata": {},
     "output_type": "execute_result"
    },
    {
     "data": {
      "image/png": "[encoded data removed]",
      "text/plain": [
       "<Figure size 432x288 with 2 Axes>"
      ]
     },
     "metadata": {
      "needs_background": "light"
     },
     "output_type": "display_data"
    }
   ],
   "source": [
    "\n",
    "b = binlist.bins[0]\n",
    "model_template = gp.BulgeDiskSersicModel()\n",
    "keys, kde = gp.setup_kde(model_template, config, b.objects)\n",
    "\n",
    "params = gp.sample_kde(config, keys, kde, model=model_template)\n",
    "params = gp.update_required(params, config)\n",
    "\n",
    "z, z_params = model_template.generate(params)\n",
    "\n",
    "print(z_params)\n",
    "\n",
    "plt.imshow(np.log10(z), origin=\"lower\", vmin=-3, vmax=1)\n",
    "plt.colorbar()"
   ]
  }
 ],
 "metadata": {
  "kernelspec": {
   "display_name": "jelly",
   "language": "python",
   "name": "python3"
  },
  "language_info": {
   "codemirror_mode": {
    "name": "ipython",
    "version": 3
   },
   "file_extension": ".py",
   "mimetype": "text/x-python",
   "name": "python",
   "nbconvert_exporter": "python",
   "pygments_lexer": "ipython3",
   "version": "3.9.18"
  }
 },
 "nbformat": 4,
 "nbformat_minor": 2
}
