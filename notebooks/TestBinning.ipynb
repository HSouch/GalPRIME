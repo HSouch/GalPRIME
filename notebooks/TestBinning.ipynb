{
 "cells": [
  {
   "cell_type": "code",
   "execution_count": 1,
   "metadata": {},
   "outputs": [],
   "source": [
    "from astropy.table import Table\n",
    "import numpy as np\n",
    "\n",
    "from matplotlib import pyplot as plt\n",
    "\n",
    "import galprime"
   ]
  },
  {
   "cell_type": "code",
   "execution_count": 9,
   "metadata": {},
   "outputs": [
    {
     "name": "stdout",
     "output_type": "stream",
     "text": [
      "Pruned 0 bins with fewer than 10 objects.\n"
     ]
    }
   ],
   "source": [
    "table = Table.read('../pdata/HSC-ZEST_CLEAN.fits')\n",
    "\n",
    "t_trimmed = galprime.trim_table(table, r50_key=\"R_GIM2D\",  n_key=\"SERSIC_N_GIM2D\", ellip_key=\"ELL_GIM2D\", \n",
    "                       bin_keys=[\"Z_BEST\", \"MASS_MED\", \"sfProb\"])\n",
    "\n",
    "bin_params = {\"Z_BEST\": [0.1, 0.3, 0.5, 0.7, 0.9], \"MASS_MED\": [10, 10.5, 11, 11.5], \"sfProb\": [0, 0.5, 1.]}\n",
    "binned = galprime.bin_catalogue(table, bin_params=bin_params, min_objects=10, verbose=True)\n"
   ]
  },
  {
   "cell_type": "code",
   "execution_count": 4,
   "metadata": {},
   "outputs": [],
   "source": [
    "import multiprocessing\n",
    "import time\n",
    "def method(obj):\n",
    "    pass\n",
    "\n",
    "\n",
    "def method(obj):\n",
    "    # Your method implementation here\n",
    "    pass\n",
    "\n",
    "def run_method_parallel(objects, n_cores, time_limit):\n",
    "    pool = multiprocessing.Pool(processes=n_cores)\n",
    "    results = []\n",
    "\n",
    "    for obj in objects:\n",
    "        result = pool.apply_async(method, args=(obj,))\n",
    "        results.append(result)\n",
    "\n",
    "    pool.close()\n",
    "    pool.join()\n",
    "\n",
    "    # Get the results or handle timeouts\n",
    "    output = []\n",
    "    for result in results:\n",
    "        try:\n",
    "            output.append(result.get(timeout=time_limit))\n",
    "        except multiprocessing.TimeoutError:\n",
    "            # Handle timeout for a specific process\n",
    "            output.append(None)\n",
    "    return output\n",
    "\n",
    "# Example usage\n",
    "N = 100\n",
    "n_cores = 4\n",
    "time_limit = 10\n",
    "\n",
    "\n",
    "#results = run_method_parallel(objects, n_cores, time_limit)\n"
   ]
  },
  {
   "cell_type": "code",
   "execution_count": 25,
   "metadata": {},
   "outputs": [],
   "source": [
    "from configobj import ConfigObj\n",
    "\n",
    "config = ConfigObj()\n",
    "config.filename = \"default.gprime\"\n",
    "\n",
    "config[\"FILES\"] = {}\n",
    "config[\"FILES\"][\"CATALOGUE\"] = \"cat.fits\"\n",
    "config[\"FILES\"][\"PSFS\"] = \"psfs.fits\"\n",
    "config[\"FILES\"][\"BACKGROUNDS\"] = \"backgrounds.fits\"\n",
    "\n",
    "config[\"KEYS\"] = {}\n",
    "config[\"KEYS\"][\"MAG\"] = \"i\"\n",
    "config[\"KEYS\"][\"R50\"] = \"R_GIM2D\"\n",
    "config[\"KEYS\"][\"N\"] = \"SERSIC_N_GIM2D\"\n",
    "config[\"KEYS\"][\"ELLIP\"] = \"ELL_GIM2D\"\n",
    "\n",
    "config[\"BINS\"] = {}\n",
    "config[\"Z_BEST\"] = [0.1, 0.3, 0.5, 0.7, 0.9]\n",
    "config[\"MASS_MED\"] = [10, 10.5, 11, 11.5]\n",
    "config[\"sfProb\"] = [0, 0.5, 1.]\n",
    "\n",
    "config[\"DIRS\"] = {}\n",
    "config[\"DIRS\"][\"OUTDIR\"] = \"gprime_out/\"\n",
    "\n",
    "config.write()\n",
    "\n"
   ]
  },
  {
   "cell_type": "code",
   "execution_count": 21,
   "metadata": {},
   "outputs": [
    {
     "name": "stdout",
     "output_type": "stream",
     "text": [
      "{'CATALOGUE': 'cat.fits', 'PSFS': 'psfs.fits', 'BACKGROUNDS': 'backgrounds.fits'}\n"
     ]
    }
   ],
   "source": []
  },
  {
   "cell_type": "code",
   "execution_count": null,
   "metadata": {},
   "outputs": [],
   "source": []
  }
 ],
 "metadata": {
  "kernelspec": {
   "display_name": "jelly",
   "language": "python",
   "name": "python3"
  },
  "language_info": {
   "codemirror_mode": {
    "name": "ipython",
    "version": 3
   },
   "file_extension": ".py",
   "mimetype": "text/x-python",
   "name": "python",
   "nbconvert_exporter": "python",
   "pygments_lexer": "ipython3",
   "version": "3.9.18"
  }
 },
 "nbformat": 4,
 "nbformat_minor": 2
}
